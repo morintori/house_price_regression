{
 "cells": [
  {
   "cell_type": "code",
   "execution_count": 1,
   "id": "f3049bdc",
   "metadata": {
    "scrolled": false
   },
   "outputs": [
    {
     "name": "stderr",
     "output_type": "stream",
     "text": [
      "2022-11-30 23:11:54.983890: I tensorflow/core/platform/cpu_feature_guard.cc:193] This TensorFlow binary is optimized with oneAPI Deep Neural Network Library (oneDNN) to use the following CPU instructions in performance-critical operations:  AVX2 FMA\n",
      "To enable them in other operations, rebuild TensorFlow with the appropriate compiler flags.\n",
      "2022-11-30 23:11:55.638548: W tensorflow/compiler/xla/stream_executor/platform/default/dso_loader.cc:64] Could not load dynamic library 'libnvinfer.so.7'; dlerror: libnvinfer.so.7: cannot open shared object file: No such file or directory; LD_LIBRARY_PATH: /usr/local/cuda/lib64:/usr/local/cuda-11.2/lib64\n",
      "2022-11-30 23:11:55.638613: W tensorflow/compiler/xla/stream_executor/platform/default/dso_loader.cc:64] Could not load dynamic library 'libnvinfer_plugin.so.7'; dlerror: libnvinfer_plugin.so.7: cannot open shared object file: No such file or directory; LD_LIBRARY_PATH: /usr/local/cuda/lib64:/usr/local/cuda-11.2/lib64\n",
      "2022-11-30 23:11:55.638619: W tensorflow/compiler/tf2tensorrt/utils/py_utils.cc:38] TF-TRT Warning: Cannot dlopen some TensorRT libraries. If you would like to use Nvidia GPU with TensorRT, please make sure the missing libraries mentioned above are installed properly.\n"
     ]
    }
   ],
   "source": [
    "from sklearn.model_selection import train_test_split, cross_val_score, cross_val_predict\n",
    "from sklearn import metrics\n",
    "\n",
    "# Importing Libraries:\n",
    "import os\n",
    "import numpy as np\n",
    "import pandas as pd\n",
    "import seaborn as sns\n",
    "import datetime as dt\n",
    "import matplotlib.pyplot as plt\n",
    "%matplotlib inline\n",
    "from sklearn.preprocessing import StandardScaler, OneHotEncoder\n",
    "from sklearn.compose import make_column_transformer\n",
    "#from sklearn.model_selection import GroupShuffleSplit\n",
    "from sklearn.impute import SimpleImputer\n",
    "#from sklearn.model_selection import train_test_split\n",
    "from sklearn.metrics import confusion_matrix\n",
    "import tensorflow as tf"
   ]
  },
  {
   "cell_type": "code",
   "execution_count": 55,
   "id": "4d4f8623",
   "metadata": {
    "scrolled": true
   },
   "outputs": [],
   "source": [
    "data= pd.read_csv('train.csv',keep_default_na = True)\n",
    "data = data.drop('Id',axis=1)"
   ]
  },
  {
   "cell_type": "code",
   "execution_count": null,
   "id": "9c9a5759",
   "metadata": {},
   "outputs": [],
   "source": [
    "data.shape"
   ]
  },
  {
   "cell_type": "code",
   "execution_count": 56,
   "id": "e4aa21c3",
   "metadata": {},
   "outputs": [],
   "source": [
    "X = data.drop('SalePrice',axis =1)\n",
    "\n",
    "y = data['SalePrice']\n",
    "\n"
   ]
  },
  {
   "cell_type": "code",
   "execution_count": 38,
   "id": "9846e6f9",
   "metadata": {
    "scrolled": true
   },
   "outputs": [
    {
     "data": {
      "text/plain": [
       "MSSubClass          0\n",
       "MSZoning            0\n",
       "LotFrontage       259\n",
       "LotArea             0\n",
       "Street              0\n",
       "Alley            1369\n",
       "LotShape            0\n",
       "LandContour         0\n",
       "Utilities           0\n",
       "LotConfig           0\n",
       "LandSlope           0\n",
       "Neighborhood        0\n",
       "Condition1          0\n",
       "Condition2          0\n",
       "BldgType            0\n",
       "HouseStyle          0\n",
       "OverallQual         0\n",
       "OverallCond         0\n",
       "YearBuilt           0\n",
       "YearRemodAdd        0\n",
       "RoofStyle           0\n",
       "RoofMatl            0\n",
       "Exterior1st         0\n",
       "Exterior2nd         0\n",
       "MasVnrType          8\n",
       "MasVnrArea          8\n",
       "ExterQual           0\n",
       "ExterCond           0\n",
       "Foundation          0\n",
       "BsmtQual           37\n",
       "BsmtCond           37\n",
       "BsmtExposure       38\n",
       "BsmtFinType1       37\n",
       "BsmtFinSF1          0\n",
       "BsmtFinType2       38\n",
       "BsmtFinSF2          0\n",
       "BsmtUnfSF           0\n",
       "TotalBsmtSF         0\n",
       "Heating             0\n",
       "HeatingQC           0\n",
       "CentralAir          0\n",
       "Electrical          1\n",
       "1stFlrSF            0\n",
       "2ndFlrSF            0\n",
       "LowQualFinSF        0\n",
       "GrLivArea           0\n",
       "BsmtFullBath        0\n",
       "BsmtHalfBath        0\n",
       "FullBath            0\n",
       "HalfBath            0\n",
       "BedroomAbvGr        0\n",
       "KitchenAbvGr        0\n",
       "KitchenQual         0\n",
       "TotRmsAbvGrd        0\n",
       "Functional          0\n",
       "Fireplaces          0\n",
       "FireplaceQu       690\n",
       "GarageType         81\n",
       "GarageYrBlt        81\n",
       "GarageFinish       81\n",
       "GarageCars          0\n",
       "GarageArea          0\n",
       "GarageQual         81\n",
       "GarageCond         81\n",
       "PavedDrive          0\n",
       "WoodDeckSF          0\n",
       "OpenPorchSF         0\n",
       "EnclosedPorch       0\n",
       "3SsnPorch           0\n",
       "ScreenPorch         0\n",
       "PoolArea            0\n",
       "PoolQC           1453\n",
       "Fence            1179\n",
       "MiscFeature      1406\n",
       "MiscVal             0\n",
       "MoSold              0\n",
       "YrSold              0\n",
       "SaleType            0\n",
       "SaleCondition       0\n",
       "SalePrice           0\n",
       "dtype: int64"
      ]
     },
     "metadata": {},
     "output_type": "display_data"
    }
   ],
   "source": [
    "pd.set_option('display.max_rows', None)\n",
    "display(data.isnull().sum())"
   ]
  },
  {
   "cell_type": "code",
   "execution_count": 57,
   "id": "2fc6c00c",
   "metadata": {},
   "outputs": [],
   "source": [
    "features_num = [ 'LotFrontage', 'LotArea', 'YearBuilt', 'YearRemodAdd', 'MasVnrArea',\n",
    "       'BsmtFinSF1', 'BsmtFinSF2', 'BsmtUnfSF', 'TotalBsmtSF','1stFlrSF', '2ndFlrSF', 'LowQualFinSF',\n",
    "       'GrLivArea', 'BsmtFullBath', 'BsmtHalfBath', 'FullBath', 'HalfBath',\n",
    "       'BedroomAbvGr', 'KitchenAbvGr', 'TotRmsAbvGrd','Fireplaces', 'GarageYrBlt', 'GarageCars', 'GarageArea', \n",
    "        'WoodDeckSF', 'OpenPorchSF', 'EnclosedPorch', '3SsnPorch',\n",
    "       'ScreenPorch', 'PoolArea', 'MiscVal','MoSold', 'YrSold']\n",
    "\n",
    "features_cat = ['MSSubClass', 'MSZoning', 'Street', 'Alley',\n",
    "       'LotShape', 'LandContour', 'Utilities', 'LotConfig', 'LandSlope',\n",
    "       'Neighborhood', 'Condition1', 'Condition2', 'BldgType', 'HouseStyle',\n",
    "       'OverallQual', 'OverallCond', 'RoofStyle',\n",
    "       'RoofMatl', 'Exterior1st', 'Exterior2nd', 'MasVnrType', \n",
    "       'ExterQual', 'ExterCond', 'Foundation', 'BsmtQual', 'BsmtCond',\n",
    "       'BsmtExposure', 'BsmtFinType1', 'BsmtFinType2','Heating', 'HeatingQC',\n",
    "       'CentralAir', 'Electrical', 'KitchenQual', \n",
    "       'Functional', 'FireplaceQu', 'GarageType', \n",
    "       'GarageFinish', 'GarageQual', 'GarageCond',\n",
    "       'PavedDrive',  'PoolQC', 'Fence', 'MiscFeature', \n",
    "       'SaleType', 'SaleCondition',]"
   ]
  },
  {
   "cell_type": "code",
   "execution_count": 68,
   "id": "69d3b09e",
   "metadata": {},
   "outputs": [],
   "source": [
    "MSSubClass_cats = np.array(['20','30','40','45','50', '60' ,'70' ,'75', '80', '85', '90', '120', '150', '160' ,'180', '190'])\n",
    "MSZoning_cats = np.array(['A','C (all)','FV','I','RH', 'RL' ,'RP' ,'RM'])\n",
    "Street_cats = np.array(['Grvl','Pave'])\n",
    "Alley_cats = np.array(['Grvl','Pave','NA'])\n",
    "LotShape_cats = np.array(['Reg','IR1','IR2','IR3'])\n",
    "LandContour_cats = (['Lvl','Bnk','HLS','Low'])\n",
    "Utilities_cats = (['AllPub','NoSewr','NoSeWa','ELO'])\n",
    "LotConfig_cats = (['Inside','Corner','CulDSac','FR2','FR3'])\n",
    "LandSlope_cats = (['Gtl','Mod','Sev'])\n",
    "Neighborhood_cats = ([ 'Blmngtn', 'Blueste', 'BrDale', 'BrkSide','ClearCr','CollgCr','Crawfor','Edwards','Gilbert',\n",
    "                      'IDOTRR','MeadowV','Mitchel','Names','NoRidge','NPkVill','NridgHt','NWAmes','OldTown',\n",
    "                      'SWISU','Sawyer','SawyerW','Somerst','StoneBr','Timber','Veenker'])\n",
    "Condition1_cats = (['Artery','Feedr','Norm','RRNn','RRAn','PosN','PosA','RRNe','RRAe'])\n",
    "Condition2_cats = (['Artery','Feedr','Norm','RRNn','RRAn','PosN','PosA','RRNe','RRAe'])\n",
    "BldgType_cats = (['1Fam','2FmCon','Duplx','TwnhsE','TwnhsI'])\n",
    "HouseStyle_cats = (['1Story','1.5Fin','1.5Unf','2Story','2.5Fin','2.5Unf','5Foyer','5Lvl'])\n",
    "OverallQual_cats= (['10','9','8','7','6','5','4','3','2','1'])\n",
    "OverallCond_cats = (['10','9','8','7','6','5','4','3','2','1'])\n",
    "RoofStyle_cats = (['Flat','Gable','Gambrel','Hip','Mansard','Shed'])\n",
    "RoofMatl_cats\n"
   ]
  },
  {
   "cell_type": "code",
   "execution_count": 74,
   "id": "0b3b6476",
   "metadata": {},
   "outputs": [
    {
     "data": {
      "text/plain": [
       "(16,)"
      ]
     },
     "execution_count": 74,
     "metadata": {},
     "output_type": "execute_result"
    }
   ],
   "source": [
    "MSSubClass_cats.shape"
   ]
  },
  {
   "cell_type": "code",
   "execution_count": 75,
   "id": "f6463842",
   "metadata": {},
   "outputs": [],
   "source": [
    "preprocessor_num = make_column_transformer(\n",
    "    (SimpleImputer(add_indicator=True), features_num),\n",
    "    (StandardScaler(), features_num),\n",
    "    (SimpleImputer(strategy='constant',fill_value = 'NA'),features_cat),\n",
    "    (OneHotEncoder(categories = [MSSubClass_cats]), ['MSSubClass'])\n",
    ")\n",
    "\n",
    "preprocessor_cat= make_column_transformer(\n",
    "    (SimpleImputer(strategy='constant',fill_value = 'NA'),features_cat),\n",
    "    (OneHotEncoder(), features_cat)\n",
    ")"
   ]
  },
  {
   "cell_type": "code",
   "execution_count": 45,
   "id": "5d065b69",
   "metadata": {},
   "outputs": [],
   "source": [
    "G = OneHotEncoder().fit_transform(X[features_cat])"
   ]
  },
  {
   "cell_type": "code",
   "execution_count": 77,
   "id": "38fdeb00",
   "metadata": {},
   "outputs": [
    {
     "data": {
      "text/plain": [
       "[('simpleimputer-1',\n",
       "  SimpleImputer(add_indicator=True),\n",
       "  ['LotFrontage',\n",
       "   'LotArea',\n",
       "   'YearBuilt',\n",
       "   'YearRemodAdd',\n",
       "   'MasVnrArea',\n",
       "   'BsmtFinSF1',\n",
       "   'BsmtFinSF2',\n",
       "   'BsmtUnfSF',\n",
       "   'TotalBsmtSF',\n",
       "   '1stFlrSF',\n",
       "   '2ndFlrSF',\n",
       "   'LowQualFinSF',\n",
       "   'GrLivArea',\n",
       "   'BsmtFullBath',\n",
       "   'BsmtHalfBath',\n",
       "   'FullBath',\n",
       "   'HalfBath',\n",
       "   'BedroomAbvGr',\n",
       "   'KitchenAbvGr',\n",
       "   'TotRmsAbvGrd',\n",
       "   'Fireplaces',\n",
       "   'GarageYrBlt',\n",
       "   'GarageCars',\n",
       "   'GarageArea',\n",
       "   'WoodDeckSF',\n",
       "   'OpenPorchSF',\n",
       "   'EnclosedPorch',\n",
       "   '3SsnPorch',\n",
       "   'ScreenPorch',\n",
       "   'PoolArea',\n",
       "   'MiscVal',\n",
       "   'MoSold',\n",
       "   'YrSold']),\n",
       " ('standardscaler',\n",
       "  StandardScaler(),\n",
       "  ['LotFrontage',\n",
       "   'LotArea',\n",
       "   'YearBuilt',\n",
       "   'YearRemodAdd',\n",
       "   'MasVnrArea',\n",
       "   'BsmtFinSF1',\n",
       "   'BsmtFinSF2',\n",
       "   'BsmtUnfSF',\n",
       "   'TotalBsmtSF',\n",
       "   '1stFlrSF',\n",
       "   '2ndFlrSF',\n",
       "   'LowQualFinSF',\n",
       "   'GrLivArea',\n",
       "   'BsmtFullBath',\n",
       "   'BsmtHalfBath',\n",
       "   'FullBath',\n",
       "   'HalfBath',\n",
       "   'BedroomAbvGr',\n",
       "   'KitchenAbvGr',\n",
       "   'TotRmsAbvGrd',\n",
       "   'Fireplaces',\n",
       "   'GarageYrBlt',\n",
       "   'GarageCars',\n",
       "   'GarageArea',\n",
       "   'WoodDeckSF',\n",
       "   'OpenPorchSF',\n",
       "   'EnclosedPorch',\n",
       "   '3SsnPorch',\n",
       "   'ScreenPorch',\n",
       "   'PoolArea',\n",
       "   'MiscVal',\n",
       "   'MoSold',\n",
       "   'YrSold']),\n",
       " ('simpleimputer-2',\n",
       "  SimpleImputer(fill_value='NA', strategy='constant'),\n",
       "  ['MSSubClass',\n",
       "   'MSZoning',\n",
       "   'Street',\n",
       "   'Alley',\n",
       "   'LotShape',\n",
       "   'LandContour',\n",
       "   'Utilities',\n",
       "   'LotConfig',\n",
       "   'LandSlope',\n",
       "   'Neighborhood',\n",
       "   'Condition1',\n",
       "   'Condition2',\n",
       "   'BldgType',\n",
       "   'HouseStyle',\n",
       "   'OverallQual',\n",
       "   'OverallCond',\n",
       "   'RoofStyle',\n",
       "   'RoofMatl',\n",
       "   'Exterior1st',\n",
       "   'Exterior2nd',\n",
       "   'MasVnrType',\n",
       "   'ExterQual',\n",
       "   'ExterCond',\n",
       "   'Foundation',\n",
       "   'BsmtQual',\n",
       "   'BsmtCond',\n",
       "   'BsmtExposure',\n",
       "   'BsmtFinType1',\n",
       "   'BsmtFinType2',\n",
       "   'Heating',\n",
       "   'HeatingQC',\n",
       "   'CentralAir',\n",
       "   'Electrical',\n",
       "   'KitchenQual',\n",
       "   'Functional',\n",
       "   'FireplaceQu',\n",
       "   'GarageType',\n",
       "   'GarageFinish',\n",
       "   'GarageQual',\n",
       "   'GarageCond',\n",
       "   'PavedDrive',\n",
       "   'PoolQC',\n",
       "   'Fence',\n",
       "   'MiscFeature',\n",
       "   'SaleType',\n",
       "   'SaleCondition']),\n",
       " ('onehotencoder',\n",
       "  OneHotEncoder(categories=[array(['20', '30', '40', '45', '50', '60', '70', '75', '80', '85', '90',\n",
       "         '120', '150', '160', '180', '190'], dtype='<U3')]),\n",
       "  ['MSSubClass'])]"
      ]
     },
     "execution_count": 77,
     "metadata": {},
     "output_type": "execute_result"
    }
   ],
   "source": [
    "preprocessor_num.transformers_"
   ]
  },
  {
   "cell_type": "code",
   "execution_count": 28,
   "id": "a85c1b06",
   "metadata": {
    "scrolled": true
   },
   "outputs": [
    {
     "ename": "ValueError",
     "evalue": "For a sparse output, all columns should be a numeric or convertible to a numeric.",
     "output_type": "error",
     "traceback": [
      "\u001b[0;31m---------------------------------------------------------------------------\u001b[0m",
      "\u001b[0;31mValueError\u001b[0m                                Traceback (most recent call last)",
      "File \u001b[0;32m~/miniconda3/envs/jupyter_env/lib/python3.10/site-packages/sklearn/compose/_column_transformer.py:793\u001b[0m, in \u001b[0;36mColumnTransformer._hstack\u001b[0;34m(self, Xs)\u001b[0m\n\u001b[1;32m    789\u001b[0m \u001b[38;5;28;01mtry\u001b[39;00m:\n\u001b[1;32m    790\u001b[0m     \u001b[38;5;66;03m# since all columns should be numeric before stacking them\u001b[39;00m\n\u001b[1;32m    791\u001b[0m     \u001b[38;5;66;03m# in a sparse matrix, `check_array` is used for the\u001b[39;00m\n\u001b[1;32m    792\u001b[0m     \u001b[38;5;66;03m# dtype conversion if necessary.\u001b[39;00m\n\u001b[0;32m--> 793\u001b[0m     converted_Xs \u001b[38;5;241m=\u001b[39m [\n\u001b[1;32m    794\u001b[0m         check_array(X, accept_sparse\u001b[38;5;241m=\u001b[39m\u001b[38;5;28;01mTrue\u001b[39;00m, force_all_finite\u001b[38;5;241m=\u001b[39m\u001b[38;5;28;01mFalse\u001b[39;00m)\n\u001b[1;32m    795\u001b[0m         \u001b[38;5;28;01mfor\u001b[39;00m X \u001b[38;5;129;01min\u001b[39;00m Xs\n\u001b[1;32m    796\u001b[0m     ]\n\u001b[1;32m    797\u001b[0m \u001b[38;5;28;01mexcept\u001b[39;00m \u001b[38;5;167;01mValueError\u001b[39;00m \u001b[38;5;28;01mas\u001b[39;00m e:\n",
      "File \u001b[0;32m~/miniconda3/envs/jupyter_env/lib/python3.10/site-packages/sklearn/compose/_column_transformer.py:794\u001b[0m, in \u001b[0;36m<listcomp>\u001b[0;34m(.0)\u001b[0m\n\u001b[1;32m    789\u001b[0m \u001b[38;5;28;01mtry\u001b[39;00m:\n\u001b[1;32m    790\u001b[0m     \u001b[38;5;66;03m# since all columns should be numeric before stacking them\u001b[39;00m\n\u001b[1;32m    791\u001b[0m     \u001b[38;5;66;03m# in a sparse matrix, `check_array` is used for the\u001b[39;00m\n\u001b[1;32m    792\u001b[0m     \u001b[38;5;66;03m# dtype conversion if necessary.\u001b[39;00m\n\u001b[1;32m    793\u001b[0m     converted_Xs \u001b[38;5;241m=\u001b[39m [\n\u001b[0;32m--> 794\u001b[0m         \u001b[43mcheck_array\u001b[49m\u001b[43m(\u001b[49m\u001b[43mX\u001b[49m\u001b[43m,\u001b[49m\u001b[43m \u001b[49m\u001b[43maccept_sparse\u001b[49m\u001b[38;5;241;43m=\u001b[39;49m\u001b[38;5;28;43;01mTrue\u001b[39;49;00m\u001b[43m,\u001b[49m\u001b[43m \u001b[49m\u001b[43mforce_all_finite\u001b[49m\u001b[38;5;241;43m=\u001b[39;49m\u001b[38;5;28;43;01mFalse\u001b[39;49;00m\u001b[43m)\u001b[49m\n\u001b[1;32m    795\u001b[0m         \u001b[38;5;28;01mfor\u001b[39;00m X \u001b[38;5;129;01min\u001b[39;00m Xs\n\u001b[1;32m    796\u001b[0m     ]\n\u001b[1;32m    797\u001b[0m \u001b[38;5;28;01mexcept\u001b[39;00m \u001b[38;5;167;01mValueError\u001b[39;00m \u001b[38;5;28;01mas\u001b[39;00m e:\n",
      "File \u001b[0;32m~/miniconda3/envs/jupyter_env/lib/python3.10/site-packages/sklearn/utils/validation.py:856\u001b[0m, in \u001b[0;36mcheck_array\u001b[0;34m(array, accept_sparse, accept_large_sparse, dtype, order, copy, force_all_finite, ensure_2d, allow_nd, ensure_min_samples, ensure_min_features, estimator, input_name)\u001b[0m\n\u001b[1;32m    855\u001b[0m     \u001b[38;5;28;01melse\u001b[39;00m:\n\u001b[0;32m--> 856\u001b[0m         array \u001b[38;5;241m=\u001b[39m \u001b[43mnp\u001b[49m\u001b[38;5;241;43m.\u001b[39;49m\u001b[43masarray\u001b[49m\u001b[43m(\u001b[49m\u001b[43marray\u001b[49m\u001b[43m,\u001b[49m\u001b[43m \u001b[49m\u001b[43morder\u001b[49m\u001b[38;5;241;43m=\u001b[39;49m\u001b[43morder\u001b[49m\u001b[43m,\u001b[49m\u001b[43m \u001b[49m\u001b[43mdtype\u001b[49m\u001b[38;5;241;43m=\u001b[39;49m\u001b[43mdtype\u001b[49m\u001b[43m)\u001b[49m\n\u001b[1;32m    857\u001b[0m \u001b[38;5;28;01mexcept\u001b[39;00m ComplexWarning \u001b[38;5;28;01mas\u001b[39;00m complex_warning:\n",
      "\u001b[0;31mValueError\u001b[0m: could not convert string to float: 'RL'",
      "\nThe above exception was the direct cause of the following exception:\n",
      "\u001b[0;31mValueError\u001b[0m                                Traceback (most recent call last)",
      "Cell \u001b[0;32mIn [28], line 1\u001b[0m\n\u001b[0;32m----> 1\u001b[0m X \u001b[38;5;241m=\u001b[39m \u001b[43mpreprocessor_cat\u001b[49m\u001b[38;5;241;43m.\u001b[39;49m\u001b[43mfit_transform\u001b[49m\u001b[43m(\u001b[49m\u001b[43mX\u001b[49m\u001b[43m)\u001b[49m\n",
      "File \u001b[0;32m~/miniconda3/envs/jupyter_env/lib/python3.10/site-packages/sklearn/compose/_column_transformer.py:714\u001b[0m, in \u001b[0;36mColumnTransformer.fit_transform\u001b[0;34m(self, X, y)\u001b[0m\n\u001b[1;32m    711\u001b[0m \u001b[38;5;28mself\u001b[39m\u001b[38;5;241m.\u001b[39m_validate_output(Xs)\n\u001b[1;32m    712\u001b[0m \u001b[38;5;28mself\u001b[39m\u001b[38;5;241m.\u001b[39m_record_output_indices(Xs)\n\u001b[0;32m--> 714\u001b[0m \u001b[38;5;28;01mreturn\u001b[39;00m \u001b[38;5;28;43mself\u001b[39;49m\u001b[38;5;241;43m.\u001b[39;49m\u001b[43m_hstack\u001b[49m\u001b[43m(\u001b[49m\u001b[38;5;28;43mlist\u001b[39;49m\u001b[43m(\u001b[49m\u001b[43mXs\u001b[49m\u001b[43m)\u001b[49m\u001b[43m)\u001b[49m\n",
      "File \u001b[0;32m~/miniconda3/envs/jupyter_env/lib/python3.10/site-packages/sklearn/compose/_column_transformer.py:798\u001b[0m, in \u001b[0;36mColumnTransformer._hstack\u001b[0;34m(self, Xs)\u001b[0m\n\u001b[1;32m    793\u001b[0m         converted_Xs \u001b[38;5;241m=\u001b[39m [\n\u001b[1;32m    794\u001b[0m             check_array(X, accept_sparse\u001b[38;5;241m=\u001b[39m\u001b[38;5;28;01mTrue\u001b[39;00m, force_all_finite\u001b[38;5;241m=\u001b[39m\u001b[38;5;28;01mFalse\u001b[39;00m)\n\u001b[1;32m    795\u001b[0m             \u001b[38;5;28;01mfor\u001b[39;00m X \u001b[38;5;129;01min\u001b[39;00m Xs\n\u001b[1;32m    796\u001b[0m         ]\n\u001b[1;32m    797\u001b[0m     \u001b[38;5;28;01mexcept\u001b[39;00m \u001b[38;5;167;01mValueError\u001b[39;00m \u001b[38;5;28;01mas\u001b[39;00m e:\n\u001b[0;32m--> 798\u001b[0m         \u001b[38;5;28;01mraise\u001b[39;00m \u001b[38;5;167;01mValueError\u001b[39;00m(\n\u001b[1;32m    799\u001b[0m             \u001b[38;5;124m\"\u001b[39m\u001b[38;5;124mFor a sparse output, all columns should \u001b[39m\u001b[38;5;124m\"\u001b[39m\n\u001b[1;32m    800\u001b[0m             \u001b[38;5;124m\"\u001b[39m\u001b[38;5;124mbe a numeric or convertible to a numeric.\u001b[39m\u001b[38;5;124m\"\u001b[39m\n\u001b[1;32m    801\u001b[0m         ) \u001b[38;5;28;01mfrom\u001b[39;00m \u001b[38;5;21;01me\u001b[39;00m\n\u001b[1;32m    803\u001b[0m     \u001b[38;5;28;01mreturn\u001b[39;00m sparse\u001b[38;5;241m.\u001b[39mhstack(converted_Xs)\u001b[38;5;241m.\u001b[39mtocsr()\n\u001b[1;32m    804\u001b[0m \u001b[38;5;28;01melse\u001b[39;00m:\n",
      "\u001b[0;31mValueError\u001b[0m: For a sparse output, all columns should be a numeric or convertible to a numeric."
     ]
    }
   ],
   "source": [
    "X = preprocessor_cat.fit_transform(X)"
   ]
  },
  {
   "cell_type": "code",
   "execution_count": 60,
   "id": "c63e74b8",
   "metadata": {},
   "outputs": [],
   "source": [
    "X_train = X.sample(frac=0.7, random_state=0)\n",
    "X_valid=X.drop(X_train.index)"
   ]
  },
  {
   "cell_type": "code",
   "execution_count": 76,
   "id": "14df5d6f",
   "metadata": {},
   "outputs": [],
   "source": [
    "X_train = preprocessor_num.fit_transform(X_train)\n",
    "X_valid = preprocessor_num.transform(X_valid)"
   ]
  },
  {
   "cell_type": "code",
   "execution_count": 48,
   "id": "0ee9af7f",
   "metadata": {},
   "outputs": [
    {
     "data": {
      "text/plain": [
       "array([[70.18171021377673, 32668.0, 1957.0, ..., 'NA', 'WD', 'Alloca'],\n",
       "       [79.0, 9490.0, 1941.0, ..., 'NA', 'WD', 'Normal'],\n",
       "       [70.18171021377673, 7015.0, 1950.0, ..., 'NA', 'WD', 'Normal'],\n",
       "       ...,\n",
       "       [70.18171021377673, 2651.0, 2000.0, ..., 'NA', 'WD', 'Normal'],\n",
       "       [90.0, 22950.0, 1892.0, ..., 'NA', 'WD', 'Normal'],\n",
       "       [90.0, 9900.0, 1880.0, ..., 'NA', 'WD', 'Normal']], dtype=object)"
      ]
     },
     "execution_count": 48,
     "metadata": {},
     "output_type": "execute_result"
    }
   ],
   "source": [
    "X_train"
   ]
  },
  {
   "cell_type": "code",
   "execution_count": null,
   "id": "54caeb1c",
   "metadata": {},
   "outputs": [],
   "source": [
    "\n",
    "imputer = SimpleImputer(add_indicator=True)\n",
    "imputer.fit_transform(data[['LotFrontage']])\n",
    "#data['LotFrontage'] = data['LotFrontage'].fillna(data['LotFrontage'].mean())"
   ]
  },
  {
   "cell_type": "code",
   "execution_count": null,
   "id": "54c1d828",
   "metadata": {
    "scrolled": true
   },
   "outputs": [],
   "source": [
    "\n"
   ]
  },
  {
   "cell_type": "code",
   "execution_count": null,
   "id": "088a1ae2",
   "metadata": {
    "scrolled": true
   },
   "outputs": [],
   "source": [
    "X_train"
   ]
  },
  {
   "cell_type": "code",
   "execution_count": null,
   "id": "878f1cb8",
   "metadata": {
    "scrolled": true
   },
   "outputs": [],
   "source": []
  },
  {
   "cell_type": "code",
   "execution_count": null,
   "id": "4a6d0cd8",
   "metadata": {
    "scrolled": true
   },
   "outputs": [],
   "source": []
  }
 ],
 "metadata": {
  "kernelspec": {
   "display_name": "Python [conda env:jupyter_env] *",
   "language": "python",
   "name": "conda-env-jupyter_env-py"
  },
  "language_info": {
   "codemirror_mode": {
    "name": "ipython",
    "version": 3
   },
   "file_extension": ".py",
   "mimetype": "text/x-python",
   "name": "python",
   "nbconvert_exporter": "python",
   "pygments_lexer": "ipython3",
   "version": "3.10.8"
  }
 },
 "nbformat": 4,
 "nbformat_minor": 5
}
